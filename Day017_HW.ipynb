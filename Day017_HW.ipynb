{
 "cells": [
  {
   "cell_type": "markdown",
   "metadata": {},
   "source": [
    "# HTTP 動態網頁架構說明\n",
    "\n",
    "\n",
    "* 了解動態網頁的資料爬蟲策略\n",
    "* 知道非同步網頁載入機制（Ajax）\n",
    "* 學習兩種對應動態網頁爬蟲的的策略\n"
   ]
  },
  {
   "cell_type": "markdown",
   "metadata": {},
   "source": [
    "## 作業目標\n",
    "\n",
    "回答以下問題：\n",
    "\n",
    "1. 動態網頁跟靜態網頁的差別是什麼？原本靜態網頁的做法會產生什麼問題或是缺點？\n",
    "2. 還記得我們在 ETTODAY 靜態爬蟲實作練習中，有請大家完成一個題目「取出今天所有的發文」，但仔細看其實並沒有真的把當天所有的新聞都抓回來， 試著回答看看原因是什麼？及該如何檢查？\n"
   ]
  },
  {
   "cell_type": "markdown",
   "metadata": {},
   "source": [
    "### 1. 動態網頁跟靜態網頁的差別是什麼？原本靜態網頁的做法會產生什麼問題或是缺點？"
   ]
  },
  {
   "cell_type": "code",
   "execution_count": 6,
   "metadata": {},
   "outputs": [
    {
     "name": "stdout",
     "output_type": "stream",
     "text": [
      "靜態網頁：靜態網⾴頁是透過每一次使用者請求，後端會產生一次網⾴頁回傳，所以請求與回傳是一對一的，有些人把他們稱為同步。\n",
      "\n",
      "動態網頁：動態網頁是透過ajax技術來達成非同步的資料傳輸，在網路上任何時間點都可以發送請求給後端，後端也只會回傳資料，而不是網頁\n",
      "\n",
      "原本的做法會因為無法判斷發送請求給後端的時機，而無法獲得完整資料\n"
     ]
    }
   ],
   "source": [
    "print('靜態網頁：靜態網⾴頁是透過每一次使用者請求，後端會產生一次網⾴頁回傳，所以請求與回傳是一對一的，有些人把他們稱為同步。\\n')\n",
    "print('動態網頁：動態網頁是透過ajax技術來達成非同步的資料傳輸，在網路上任何時間點都可以發送請求給後端，後端也只會回傳資料，而不是網頁\\n')\n",
    "print('原本的做法會因為無法判斷發送請求給後端的時機，而無法獲得完整資料')"
   ]
  },
  {
   "cell_type": "markdown",
   "metadata": {},
   "source": [
    "### 2. 還記得我們在 ETTODAY 靜態爬蟲實作練習中，有請大家完成一個題目「取出今天所有的發文」，但仔細看其實並沒有真的把當天所有的新聞都抓回來， 試著回答看看原因是什麼？及該如何檢查？"
   ]
  },
  {
   "cell_type": "code",
   "execution_count": 7,
   "metadata": {},
   "outputs": [
    {
     "name": "stdout",
     "output_type": "stream",
     "text": [
      "因為他放了無限滾動相關模組的javascript，因此他是個動態網頁\n"
     ]
    }
   ],
   "source": [
    "print('因為他放了無限滾動相關模組的javascript，因此他是個動態網頁')\n"
   ]
  },
  {
   "cell_type": "code",
   "execution_count": null,
   "metadata": {},
   "outputs": [],
   "source": []
  },
  {
   "cell_type": "code",
   "execution_count": null,
   "metadata": {},
   "outputs": [],
   "source": []
  }
 ],
 "metadata": {
  "kernelspec": {
   "display_name": "Python 3",
   "language": "python",
   "name": "python3"
  },
  "language_info": {
   "codemirror_mode": {
    "name": "ipython",
    "version": 3
   },
   "file_extension": ".py",
   "mimetype": "text/x-python",
   "name": "python",
   "nbconvert_exporter": "python",
   "pygments_lexer": "ipython3",
   "version": "3.7.4"
  }
 },
 "nbformat": 4,
 "nbformat_minor": 2
}
