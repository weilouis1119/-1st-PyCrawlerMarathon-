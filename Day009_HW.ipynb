{
 "cells": [
  {
   "cell_type": "markdown",
   "metadata": {},
   "source": [
    "# 作業\n",
    "\n",
    "以正確的副檔名下載網頁中的圖片\n",
    "範例網頁:https://www.ptt.cc/bbs/Beauty/M.1556291059.A.75A.html\n",
    "\n",
    "Note：因為 PTT 會詢問「是否滿 18 歲」，這邊可以用 cookies 繞過\n",
    "\n",
    "`requests.get(URL, cookies={'over18': '1'}`\n"
   ]
  },
  {
   "cell_type": "code",
   "execution_count": 5,
   "metadata": {},
   "outputs": [],
   "source": [
    "import os \n",
    "import requests\n",
    "from bs4 import BeautifulSoup\n",
    "from PIL import Image"
   ]
  },
  {
   "cell_type": "code",
   "execution_count": 6,
   "metadata": {},
   "outputs": [],
   "source": [
    "url='https://www.ptt.cc/bbs/Beauty/M.1556291059.A.75A.html'\n",
    "res=requests.get(url, cookies={'over18':'1'})\n",
    "soup=BeautifulSoup(res.text)"
   ]
  },
  {
   "cell_type": "code",
   "execution_count": 13,
   "metadata": {},
   "outputs": [
    {
     "name": "stdout",
     "output_type": "stream",
     "text": [
      "Save image download/Cgb5oo1.jpeg\n",
      "Save image download/MgjHY4f.jpeg\n",
      "Save image download/yeoRtAs.jpeg\n",
      "Save image download/wsauNEW.jpeg\n",
      "Save image download/IjiETcs.jpeg\n"
     ]
    }
   ],
   "source": [
    "output_dir='download'\n",
    "if not os.path.exists(output_dir):\n",
    "    os.mkdir(output_dir)\n",
    "\n",
    "image_tags=soup.find(id=\"main-content\").findChildren('a',recursive=False)\n",
    "for image_tag in image_tags:\n",
    "    if 'imgur' not in image_tag['href']:\n",
    "        continue\n",
    "    img_id=image_tag['href'].split('/')[-1]\n",
    "    img_url='https://imgur.com/{}.jpg'.format(img_id)\n",
    "    with requests.get(img_url,stream=True) as r:\n",
    "        r.raise_for_status()\n",
    "        img=Image.open(r.raw)\n",
    "        img_savename='{outdir}/{img_id}.{img_ext}'.format(\n",
    "            outdir=output_dir, img_id=img_id, img_ext=img.format.lower())\n",
    "        img.save(img_savename)\n",
    "        print('Save image {}'.format(img_savename))\n",
    "    \n"
   ]
  },
  {
   "cell_type": "code",
   "execution_count": null,
   "metadata": {},
   "outputs": [],
   "source": []
  }
 ],
 "metadata": {
  "kernelspec": {
   "display_name": "Python 3",
   "language": "python",
   "name": "python3"
  },
  "language_info": {
   "codemirror_mode": {
    "name": "ipython",
    "version": 3
   },
   "file_extension": ".py",
   "mimetype": "text/x-python",
   "name": "python",
   "nbconvert_exporter": "python",
   "pygments_lexer": "ipython3",
   "version": "3.7.4"
  }
 },
 "nbformat": 4,
 "nbformat_minor": 2
}
