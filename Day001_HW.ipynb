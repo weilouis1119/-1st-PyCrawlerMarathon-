{
 "cells": [
  {
   "cell_type": "code",
   "execution_count": 13,
   "metadata": {},
   "outputs": [
    {
     "data": {
      "text/plain": [
       "('Homework.txt', <http.client.HTTPMessage at 0x10e7d36d0>)"
      ]
     },
     "execution_count": 13,
     "metadata": {},
     "output_type": "execute_result"
    }
   ],
   "source": [
    "from urllib.request import urlretrieve\n",
    "url='https://www.w3.org/TR/PNG/iso_8859-1.txt'\n",
    "urlretrieve(url,filename='Homework.txt')\n",
    "\n"
   ]
  },
  {
   "cell_type": "code",
   "execution_count": 14,
   "metadata": {},
   "outputs": [
    {
     "name": "stdout",
     "output_type": "stream",
     "text": [
      "Data已經存在！\n",
      "/Users/louis/Homework.txt\n",
      "檔案存在\n"
     ]
    }
   ],
   "source": [
    "import os, sys, shutil\n",
    "dir='Data'\n",
    "if not os.path.exists(dir):\n",
    "    os.mkdir(dir)\n",
    "    print('建立完成')\n",
    "else:\n",
    "    print(dir+'已經存在！')\n",
    "    \n",
    "n=os.path.abspath('Homework.txt')\n",
    "print(n)\n",
    "if not os.path.isfile('/Users/louis/Data/Homework.txt'):\n",
    "    shutil.move('Homework.txt','Data')\n",
    "    \n",
    "file='Data/Homework.txt'\n",
    "\n",
    "if 'Homework.txt' in file:\n",
    "    print('檔案存在')\n",
    "else:\n",
    "    print('檔案不存在')\n",
    "    \n",
    "\n",
    "\n",
    "f=open(file,'w')\n",
    "f.write('Hello World')\n",
    "f.close()\n",
    "\n"
   ]
  },
  {
   "cell_type": "code",
   "execution_count": 11,
   "metadata": {},
   "outputs": [
    {
     "name": "stdout",
     "output_type": "stream",
     "text": [
      "不符合\n"
     ]
    }
   ],
   "source": [
    "if len('Hello World')==len(file):\n",
    "    print('符合')\n",
    "else:\n",
    "    print('不符合')\n",
    "\n"
   ]
  },
  {
   "cell_type": "code",
   "execution_count": 122,
   "metadata": {},
   "outputs": [
    {
     "name": "stdout",
     "output_type": "stream",
     "text": [
      "不符合\n"
     ]
    }
   ],
   "source": []
  },
  {
   "cell_type": "code",
   "execution_count": null,
   "metadata": {},
   "outputs": [],
   "source": []
  }
 ],
 "metadata": {
  "kernelspec": {
   "display_name": "Python 3",
   "language": "python",
   "name": "python3"
  },
  "language_info": {
   "codemirror_mode": {
    "name": "ipython",
    "version": 3
   },
   "file_extension": ".py",
   "mimetype": "text/x-python",
   "name": "python",
   "nbconvert_exporter": "python",
   "pygments_lexer": "ipython3",
   "version": "3.7.4"
  }
 },
 "nbformat": 4,
 "nbformat_minor": 2
}
