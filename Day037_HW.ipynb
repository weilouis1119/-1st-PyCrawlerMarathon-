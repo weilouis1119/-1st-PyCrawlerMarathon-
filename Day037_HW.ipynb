{
 "cells": [
  {
   "cell_type": "markdown",
   "metadata": {},
   "source": [
    "# 自動化更新機制\n",
    "\n",
    "\n",
    "* 如何定期執行爬蟲程式\n",
    "* 更新時需要注意的事情是什麼？\n"
   ]
  },
  {
   "cell_type": "markdown",
   "metadata": {},
   "source": [
    "## 作業目標\n",
    "\n",
    "* 列舉一個是需要用自動化更新的機制來達成的爬蟲應用。"
   ]
  },
  {
   "cell_type": "code",
   "execution_count": 6,
   "metadata": {
    "scrolled": false
   },
   "outputs": [
    {
     "name": "stdout",
     "output_type": "stream",
     "text": [
      "2020/02/04 15:16 房產雲 蘆洲公寓鋼筋裸露如鬼屋！2月重建後　行情估2跳4字頭\n",
      "2020/02/04 15:16 房產雲 蘆洲公寓鋼筋裸露如鬼屋！2月重建後　行情估2跳4字頭\n",
      "2020/02/04 15:16 房產雲 蘆洲公寓鋼筋裸露如鬼屋！2月重建後　行情估2跳4字頭\n",
      "2020/02/04 15:16 房產雲 蘆洲公寓鋼筋裸露如鬼屋！2月重建後　行情估2跳4字頭\n",
      "2020/02/04 15:16 房產雲 蘆洲公寓鋼筋裸露如鬼屋！2月重建後　行情估2跳4字頭\n"
     ]
    }
   ],
   "source": [
    "import requests\n",
    "from bs4 import BeautifulSoup\n",
    "import time\n",
    "import datetime\n",
    "import schedule\n",
    "def news():\n",
    "    url='https://www.ettoday.net/news/news-list.htm'\n",
    "    headers={'user-agent':'Mozilla/5.0 (Macintosh; Intel Mac OS X 10_14_6) AppleWebKit/537.36 (KHTML, like Gecko) Chrome/78.0.3904.108 Safari/537.36'}\n",
    "    r=requests.get(url,headers=headers)\n",
    "    r.encoding='utf-8'\n",
    "    sp=BeautifulSoup(r.text,'html5lib')\n",
    "    n=sp.find(class_=\"part_list_2\").find('h3')\n",
    "    print(n.find(class_='date').text, n.find(class_='tag').text, n.find('a').text)\n",
    "    \n",
    "    \n",
    "\n",
    "#print(news())\n",
    "schedule.every(5).seconds.do(news)\n",
    "\n",
    "count=0\n",
    "while True:\n",
    "    schedule.run_pending()\n",
    " \n",
    "    count+=1\n",
    "    if count>=2:\n",
    "        break\n",
    "\n",
    "\n",
    "    \n",
    "\n",
    "    \n",
    "\n",
    "\n",
    "\n"
   ]
  },
  {
   "cell_type": "code",
   "execution_count": null,
   "metadata": {},
   "outputs": [],
   "source": []
  },
  {
   "cell_type": "code",
   "execution_count": null,
   "metadata": {},
   "outputs": [],
   "source": []
  },
  {
   "cell_type": "code",
   "execution_count": null,
   "metadata": {},
   "outputs": [],
   "source": []
  },
  {
   "cell_type": "code",
   "execution_count": null,
   "metadata": {},
   "outputs": [],
   "source": []
  },
  {
   "cell_type": "code",
   "execution_count": null,
   "metadata": {},
   "outputs": [],
   "source": []
  }
 ],
 "metadata": {
  "colab": {
   "name": "homework.ipynb",
   "provenance": []
  },
  "kernelspec": {
   "display_name": "Python 3",
   "language": "python",
   "name": "python3"
  },
  "language_info": {
   "codemirror_mode": {
    "name": "ipython",
    "version": 3
   },
   "file_extension": ".py",
   "mimetype": "text/x-python",
   "name": "python",
   "nbconvert_exporter": "python",
   "pygments_lexer": "ipython3",
   "version": "3.7.4"
  }
 },
 "nbformat": 4,
 "nbformat_minor": 1
}
