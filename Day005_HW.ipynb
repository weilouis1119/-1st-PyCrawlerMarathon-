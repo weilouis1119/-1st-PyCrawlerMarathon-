{
 "cells": [
  {
   "cell_type": "code",
   "execution_count": 51,
   "metadata": {},
   "outputs": [],
   "source": [
    "import requests\n",
    "import json\n",
    "r=requests.get('https://www.dcard.tw/_api/forums/pet/posts?popular=true')\n",
    "\n"
   ]
  },
  {
   "cell_type": "code",
   "execution_count": 52,
   "metadata": {},
   "outputs": [
    {
     "name": "stdout",
     "output_type": "stream",
     "text": [
      "這個ＡＰＩ一次會傳回30筆資料\n",
      "傳回的資料包含: dict_keys(['id', 'title', 'excerpt', 'anonymousSchool', 'anonymousDepartment', 'pinned', 'forumId', 'replyId', 'createdAt', 'updatedAt', 'commentCount', 'likeCount', 'withNickname', 'tags', 'topics', 'meta', 'forumName', 'forumAlias', 'gender', 'school', 'replyTitle', 'mediaMeta', 'reactions', 'hidden', 'customStyle', 'isSuspiciousAccount', 'layout', 'withImages', 'withVideos', 'media', 'reportReasonText', 'postAvatar'])\n"
     ]
    }
   ],
   "source": [
    "# 1. 這個 API 一次會回傳幾筆資料？每一筆資料包含哪些欄位？\n",
    "count=0\n",
    "res=json.loads(r.text)\n",
    "for n in res:\n",
    "    count+=1\n",
    "print('這個ＡＰＩ一次會傳回%s筆資料' % count)\n",
    "\n",
    "print('傳回的資料包含:',ns[1].keys())"
   ]
  },
  {
   "cell_type": "code",
   "execution_count": 53,
   "metadata": {},
   "outputs": [
    {
     "name": "stdout",
     "output_type": "stream",
     "text": [
      "#第一張有恐怖圖 你笑起來好可愛 貼文時間： 2019-12-07T03:25:34.942Z 留言人數： 48 按讚人數： 1824\n",
      "你不是好狗狗！你是最棒的狗狗！ 貼文時間： 2019-12-07T14:34:11.099Z 留言人數： 32 按讚人數： 1073\n",
      "冬天94要不洗頭 貼文時間： 2019-12-07T05:25:00.317Z 留言人數： 6 按讚人數： 212\n",
      "看我的喵之呼吸！！ 貼文時間： 2019-12-07T09:10:11.051Z 留言人數： 6 按讚人數： 77\n",
      "正在冬眠的貓 貼文時間： 2019-12-07T07:00:54.317Z 留言人數： 8 按讚人數： 55\n",
      "我的貓咪是漢堡神偷 😨 貼文時間： 2019-12-07T02:55:55.656Z 留言人數： 3 按讚人數： 43\n",
      "超可愛的狗勾送養文 貼文時間： 2019-12-07T06:16:38.381Z 留言人數： 1 按讚人數： 42\n",
      "貓貓也來取暖 貼文時間： 2019-12-07T04:04:18.841Z 留言人數： 1 按讚人數： 31\n",
      "海水sps缸紀錄📝 貼文時間： 2019-12-08T01:07:06.659Z 留言人數： 14 按讚人數： 19\n",
      "可以不要拉摸ㄎㄧㄤ嗎 貼文時間： 2019-12-08T03:04:28.277Z 留言人數： 1 按讚人數： 13\n",
      "小貓每次喝水都嗆到 一直發出嗚嗚聲是正常的嗎… 貼文時間： 2019-12-07T23:22:39.793Z 留言人數： 1 按讚人數： 13\n",
      "長的不太一樣 貼文時間： 2019-12-07T21:32:32.942Z 留言人數： 1 按讚人數： 12\n",
      "貓咪真的好愛紙箱(･ัω･ั) 貼文時間： 2019-12-07T10:43:08.357Z 留言人數： 0 按讚人數： 12\n",
      "小老鼠跟你有仇嗎=    = 貼文時間： 2019-12-07T02:45:02.748Z 留言人數： 5 按讚人數： 12\n",
      "別再自以為是的酸言酸語 貼文時間： 2019-12-07T11:34:48.504Z 留言人數： 2 按讚人數： 11\n",
      "AKA 夢幻狐狸犬 貼文時間： 2019-12-07T23:35:11.592Z 留言人數： 2 按讚人數： 10\n",
      "我家的貓根本表情包 ！ 貼文時間： 2019-12-08T03:54:39.812Z 留言人數： 0 按讚人數： 9\n",
      "真的有貓啦！ 貼文時間： 2019-12-07T08:08:53.214Z 留言人數： 1 按讚人數： 9\n",
      "有給貓咪吃過這個嗎👇？ 貼文時間： 2019-12-07T11:33:34.204Z 留言人數： 12 按讚人數： 8\n",
      "狗狗走失🥺（台南） 貼文時間： 2019-12-07T14:51:03.690Z 留言人數： 0 按讚人數： 7\n",
      "我想請問一個問題... 貼文時間： 2019-12-07T14:43:18.729Z 留言人數： 8 按讚人數： 7\n",
      "#協馴 綠和尚 貼文時間： 2019-12-07T10:09:37.032Z 留言人數： 0 按讚人數： 6\n",
      "最近天氣冷，來個貓暖包吧 貼文時間： 2019-12-07T08:35:56.891Z 留言人數： 0 按讚人數： 6\n",
      "有人也是小宅包的愛好者嗎？ 貼文時間： 2019-12-07T14:07:23.095Z 留言人數： 3 按讚人數： 5\n",
      "#問卷 一個獸醫師的好奇 貼文時間： 2019-12-07T08:39:59.440Z 留言人數： 3 按讚人數： 5\n",
      "好市多狗狗睡墊 貼文時間： 2019-12-06T21:32:16.556Z 留言人數： 3 按讚人數： 5\n",
      "五花肉的巴哥犬需要大家的幫助🙏 貼文時間： 2019-12-07T17:33:45.657Z 留言人數： 1 按讚人數： 4\n",
      "#圖 曬個越大越愛撒嬌的貓 貼文時間： 2019-12-07T14:44:07.797Z 留言人數： 0 按讚人數： 4\n",
      "😸😽😼😻日常 貼文時間： 2019-12-08T05:36:32.694Z 留言人數： 2 按讚人數： 3\n",
      "黑貴賓走失 麻煩大家幫忙注意 貼文時間： 2019-12-07T16:00:27.161Z 留言人數： 0 按讚人數： 3\n"
     ]
    }
   ],
   "source": [
    "#2. 取出每一筆資料的「標題」、「貼文時間」、「留言人數」、「按讚人數」\n",
    "for i in res:\n",
    "    print(i['title'],'貼文時間：',i['createdAt'],'留言人數：',i['commentCount'],'按讚人數：',i['likeCount'])"
   ]
  },
  {
   "cell_type": "code",
   "execution_count": 62,
   "metadata": {
    "scrolled": true
   },
   "outputs": [
    {
     "name": "stdout",
     "output_type": "stream",
     "text": [
      "熱門文章平均留言人數： 5.466666666666667\n",
      "熱門文章平均按讚人數： 118.0\n",
      "非熱門文章平均留言人數： 3.966666666666667\n",
      "非熱門文章平均按讚人數： 43.43333333333333\n"
     ]
    }
   ],
   "source": [
    "#3. 計算熱門/非熱門文章的「平均留言人數」與「平均按讚人數」\n",
    "\n",
    "#熱門文章\n",
    "sum=0\n",
    "count=1\n",
    "for i in res:\n",
    "    sum=sum+int(i['commentCount'])\n",
    "    count+=1\n",
    "\n",
    "print('熱門文章平均留言人數：',sum/(count-1))\n",
    "\n",
    "sum=0\n",
    "count=1\n",
    "for i in res:\n",
    "    sum+=int(i['likeCount'])\n",
    "    count+=1\n",
    "print('熱門文章平均按讚人數：',sum/(count-1))\n",
    "\n",
    "#非熱門文章人數\n",
    "r=requests.get('https://www.dcard.tw/_api/forums/pet/posts?popular=false')\n",
    "res=json.loads(r.text)\n",
    "\n",
    "sum=0\n",
    "count=1\n",
    "for i in res:\n",
    "    sum=sum+int(i['commentCount'])\n",
    "    count+=1\n",
    "\n",
    "print('非熱門文章平均留言人數：',sum/(count-1))\n",
    "\n",
    "sum=0\n",
    "count=1\n",
    "for i in res:\n",
    "    sum+=int(i['likeCount'])\n",
    "    count+=1\n",
    "print('非熱門文章平均按讚人數：',sum/(count-1))\n",
    "    \n",
    "    "
   ]
  },
  {
   "cell_type": "code",
   "execution_count": null,
   "metadata": {},
   "outputs": [],
   "source": []
  },
  {
   "cell_type": "code",
   "execution_count": null,
   "metadata": {},
   "outputs": [],
   "source": []
  }
 ],
 "metadata": {
  "kernelspec": {
   "display_name": "Python 3",
   "language": "python",
   "name": "python3"
  },
  "language_info": {
   "codemirror_mode": {
    "name": "ipython",
    "version": 3
   },
   "file_extension": ".py",
   "mimetype": "text/x-python",
   "name": "python",
   "nbconvert_exporter": "python",
   "pygments_lexer": "ipython3",
   "version": "3.7.4"
  }
 },
 "nbformat": 4,
 "nbformat_minor": 2
}
