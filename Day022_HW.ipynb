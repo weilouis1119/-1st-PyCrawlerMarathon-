{
 "cells": [
  {
   "cell_type": "markdown",
   "metadata": {},
   "source": [
    "# 空氣污染監測網 網路爬蟲實作練習\n",
    "\n",
    "\n",
    "* 能夠利用 selenium + BeautifulSoup 撰寫爬蟲，並存放到合適的資料結構\n"
   ]
  },
  {
   "cell_type": "markdown",
   "metadata": {},
   "source": [
    "## 作業目標\n",
    "\n",
    "根據範例 ，完成以下問題：\n",
    "\n",
    "* ① 取出 台北市士林區 2018/01 – 2018/08 的 SO2 資料\n",
    "* ② 取出 台北市士林區 2018/01 – 2018/08 的 SO2、CO 資料\n",
    "\n",
    "\n",
    "\n"
   ]
  },
  {
   "cell_type": "code",
   "execution_count": 34,
   "metadata": {},
   "outputs": [],
   "source": [
    "import requests\n",
    "import time\n",
    "import pandas as pd\n",
    "from bs4 import BeautifulSoup\n",
    "from selenium import webdriver\n",
    "from selenium.webdriver.support.ui import Select"
   ]
  },
  {
   "cell_type": "markdown",
   "metadata": {},
   "source": [
    "### ① 取出 台北市士林區 2018/01 – 2018/08 的 SO2 資料"
   ]
  },
  {
   "cell_type": "code",
   "execution_count": 38,
   "metadata": {},
   "outputs": [
    {
     "name": "stdout",
     "output_type": "stream",
     "text": [
      "\n",
      "SO2ppb2018/011.80 \n",
      "\n",
      "\n",
      "2018/021.90 \n",
      "\n",
      "\n",
      "2018/032.20 \n",
      "\n",
      "\n",
      "2018/042.30 \n",
      "\n",
      "\n",
      "2018/053.10 \n",
      "\n",
      "\n",
      "2018/062.70 \n",
      "\n",
      "\n",
      "2018/072.20 \n",
      "\n",
      "\n",
      "2018/082.40 \n",
      "\n",
      "{'SO2': 'ppb', '2018/02': '1.90', '2018/03': '2.20', '2018/04': '2.30', '2018/05': '3.10', '2018/06': '2.70', '2018/07': '2.20', '2018/08': '2.40'}\n"
     ]
    }
   ],
   "source": [
    "url='http://taqm.epa.gov.tw/taqm/tw/MonthlyAverage.aspx'\n",
    "broswer=webdriver.Chrome(executable_path='chromedriver')\n",
    "broswer.get(url)\n",
    "Select(broswer.find_element_by_id('ctl05_ddlSite')).select_by_value('11')\n",
    "Select(broswer.find_element_by_id('ctl05_ddlYear')).select_by_value('2018')\n",
    "broswer.find_element_by_id('ctl05_btnQuery').click()\n",
    "\n",
    "time.sleep(5)\n",
    "\n",
    "html_source=broswer.page_source\n",
    "bs=BeautifulSoup(html_source,'html.parser')\n",
    "\n",
    "\n",
    "so2={}\n",
    "date=''\n",
    "value=''\n",
    "\n",
    "so=bs.find('table',class_='TABLE_G').find_all('tr')[1:9]\n",
    "for i in so:\n",
    "    print(i.text)\n",
    "    date=i.find_all('td')[0].text\n",
    "    value=i.find_all('td')[1].text\n",
    "    so2[date]=value\n",
    "print(so2)\n",
    "\n",
    "broswer.quit()\n",
    "\n"
   ]
  },
  {
   "cell_type": "code",
   "execution_count": null,
   "metadata": {},
   "outputs": [],
   "source": []
  },
  {
   "cell_type": "markdown",
   "metadata": {},
   "source": [
    "### ② 取出 台北市士林區 2018/01 – 2018/08 的 SO2、CO 資料"
   ]
  },
  {
   "cell_type": "code",
   "execution_count": 44,
   "metadata": {},
   "outputs": [
    {
     "name": "stdout",
     "output_type": "stream",
     "text": [
      "\n",
      "SO2ppb2018/011.80 \n",
      "\n",
      "\n",
      "2018/021.90 \n",
      "\n",
      "\n",
      "2018/032.20 \n",
      "\n",
      "\n",
      "2018/042.30 \n",
      "\n",
      "\n",
      "2018/053.10 \n",
      "\n",
      "\n",
      "2018/062.70 \n",
      "\n",
      "\n",
      "2018/072.20 \n",
      "\n",
      "\n",
      "2018/082.40 \n",
      "\n",
      "\n",
      "2018/092.10 \n",
      "\n",
      "\n",
      "2018/101.70 \n",
      "\n",
      "\n",
      "2018/111.90 \n",
      "\n",
      "\n",
      "2018/121.80 \n",
      "\n",
      "\n",
      "COppm2018/010.34 \n",
      "\n",
      "\n",
      "2018/020.44 \n",
      "\n",
      "\n",
      "2018/030.40 \n",
      "\n",
      "\n",
      "2018/040.38 \n",
      "\n",
      "\n",
      "2018/050.34 \n",
      "\n",
      "\n",
      "2018/060.29 \n",
      "\n",
      "\n",
      "2018/070.21 \n",
      "\n",
      "\n",
      "2018/080.30 \n",
      "\n",
      "\n",
      "2018/090.26 \n",
      "\n",
      "\n",
      "2018/100.29 \n",
      "\n",
      "\n",
      "2018/110.30 \n",
      "\n",
      "\n",
      "2018/120.35 \n",
      "\n",
      "{'SO2': 'ppb', '2018/02': '1.90', '2018/03': '2.20', '2018/04': '2.30', '2018/05': '3.10', '2018/06': '2.70', '2018/07': '2.20', '2018/08': '2.40', '2018/09': '2.10', '2018/10': '1.70', '2018/11': '1.90', '2018/12': '1.80'}\n",
      "{'CO': 'ppm', '2018/02': '0.44', '2018/03': '0.40', '2018/04': '0.38', '2018/05': '0.34', '2018/06': '0.29', '2018/07': '0.21', '2018/08': '0.30', '2018/09': '0.26', '2018/10': '0.29', '2018/11': '0.30', '2018/12': '0.35'}\n"
     ]
    }
   ],
   "source": [
    "url='http://taqm.epa.gov.tw/taqm/tw/MonthlyAverage.aspx'\n",
    "broswer=webdriver.Chrome(executable_path='chromedriver')\n",
    "broswer.get(url)\n",
    "Select(broswer.find_element_by_id('ctl05_ddlSite')).select_by_value('11')\n",
    "Select(broswer.find_element_by_id('ctl05_ddlYear')).select_by_value('2018')\n",
    "broswer.find_element_by_id('ctl05_btnQuery').click()\n",
    "\n",
    "time.sleep(5)\n",
    "\n",
    "html_source=broswer.page_source\n",
    "bs=BeautifulSoup(html_source,'html.parser')\n",
    "\n",
    "so2={}\n",
    "date1=''\n",
    "value1=''\n",
    "\n",
    "co={}\n",
    "date2=''\n",
    "value2=''\n",
    "so=bs.find('table',class_='TABLE_G').find_all('tr')[1:13]\n",
    "for i in so:\n",
    "    print(i.text)\n",
    "    date1=i.find_all('td')[0].text\n",
    "    value1=i.find_all('td')[1].text\n",
    "    so2[date1]=value1\n",
    "    \n",
    "so=bs.find('table',class_='TABLE_G').find_all('tr')[13:25]\n",
    "for i in so:\n",
    "    print(i.text)\n",
    "    date2=i.find_all('td')[0].text\n",
    "    value2=i.find_all('td')[1].text\n",
    "    co[date2]=value2\n",
    "\n",
    "    \n",
    "print(so2)\n",
    "print(co)\n"
   ]
  },
  {
   "cell_type": "code",
   "execution_count": null,
   "metadata": {},
   "outputs": [],
   "source": []
  }
 ],
 "metadata": {
  "kernelspec": {
   "display_name": "Python 3",
   "language": "python",
   "name": "python3"
  },
  "language_info": {
   "codemirror_mode": {
    "name": "ipython",
    "version": 3
   },
   "file_extension": ".py",
   "mimetype": "text/x-python",
   "name": "python",
   "nbconvert_exporter": "python",
   "pygments_lexer": "ipython3",
   "version": "3.7.4"
  }
 },
 "nbformat": 4,
 "nbformat_minor": 2
}
