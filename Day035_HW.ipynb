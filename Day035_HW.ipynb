{
 "cells": [
  {
   "cell_type": "markdown",
   "metadata": {},
   "source": [
    "# 加速：多線程爬蟲\n",
    "\n",
    "\n",
    "\n",
    "* 了解知乎 API 使用方式與回傳內容\n",
    "* 撰寫程式存取 API 且添加標頭"
   ]
  },
  {
   "cell_type": "markdown",
   "metadata": {},
   "source": [
    "## 作業目標\n",
    "\n",
    "* 找一個之前實作過的爬蟲改用多線程改寫，比較前後時間的差異。\n",
    "\n",
    "\n",
    "\n"
   ]
  },
  {
   "cell_type": "code",
   "execution_count": 5,
   "metadata": {},
   "outputs": [],
   "source": [
    "import requests\n",
    "import time\n",
    "from bs4 import BeautifulSoup\n",
    "from selenium import webdriver\n",
    "from selenium.webdriver.common.keys import Keys\n",
    "import time\n",
    "import _thread"
   ]
  },
  {
   "cell_type": "code",
   "execution_count": 29,
   "metadata": {
    "scrolled": true
   },
   "outputs": [
    {
     "name": "stdout",
     "output_type": "stream",
     "text": [
      "6.459461212158203\n"
     ]
    }
   ],
   "source": [
    "startime=time.time()\n",
    "\n",
    "job_url='https://www.104.com.tw/cust/list/index/?page=1&order=1&mode=s&jobsource=checkc&area=6001001000&indcat=1007001001'\n",
    "browser=webdriver.Chrome()\n",
    "browser.get(job_url)\n",
    "time.sleep(2)\n",
    "\n",
    "def hr(i, company_list):\n",
    "    while True:\n",
    "        time.sleep(3)\n",
    "        html=browser.page_source\n",
    "        bs=BeautifulSoup(html,'lxml')\n",
    "    \n",
    "        page_now=bs.find('a',attrs={'class':'page-num active'}).text\n",
    "        page_total=bs.find('div',attrs={'class':'page-total'})['data-total']\n",
    "        \n",
    "        company_list=bs.find('div',attrs={'class':'company-summary'}).find_all('article',attrs={'class':'items'})\n",
    "    \n",
    "        for i in company_list:\n",
    "            time.sleep(2)\n",
    "            company_name=i.find('a').text\n",
    "            #print(company_name)\n",
    "    \n",
    "        if page_now==page_total:\n",
    "            break\n",
    "        else:\n",
    "            browser.find_element_by_link_text('下一頁').click()\n",
    "            continue     \n",
    "            \n",
    "        \n",
    "\n",
    "finishtime=time.time()\n",
    "_thread.start_new_thread(hr, (i, company_list))\n",
    "time.sleep(3)\n",
    "print(finishtime-startime)\n",
    "browser.quit()"
   ]
  },
  {
   "cell_type": "code",
   "execution_count": 19,
   "metadata": {},
   "outputs": [
    {
     "name": "stdout",
     "output_type": "stream",
     "text": [
      "44.89491820335388\n"
     ]
    }
   ],
   "source": [
    "startime=time.time()\n",
    "job_url='https://www.104.com.tw/cust/list/index/?page=1&order=1&mode=s&jobsource=checkc&area=6001001000&indcat=1007001001'\n",
    "browser=webdriver.Chrome()\n",
    "browser.get(job_url)\n",
    "time.sleep(2)\n",
    "\n",
    "\n",
    "while True:\n",
    "    time.sleep(3)\n",
    "    html=browser.page_source\n",
    "    bs=BeautifulSoup(html,'lxml')\n",
    "    \n",
    "    page_now=bs.find('a',attrs={'class':'page-num active'}).text\n",
    "    page_total=bs.find('div',attrs={'class':'page-total'})['data-total']\n",
    "    \n",
    "    company_list=bs.find('div',attrs={'class':'company-summary'}).find_all('article',attrs={'class':'items'})\n",
    "    for i in company_list:\n",
    "        company_name=i.find('a').text\n",
    "        #print(company_name)\n",
    "    \n",
    "    if page_now==page_total:\n",
    "        break\n",
    "    else:\n",
    "        browser.find_element_by_link_text('下一頁').click()\n",
    "        continue\n",
    "        \n",
    "        \n",
    "browser.quit()\n",
    "finishtime=time.time()\n",
    "\n",
    "print(finishtime-startime)\n",
    "    "
   ]
  },
  {
   "cell_type": "code",
   "execution_count": null,
   "metadata": {},
   "outputs": [],
   "source": []
  }
 ],
 "metadata": {
  "colab": {
   "name": "homework.ipynb",
   "provenance": []
  },
  "kernelspec": {
   "display_name": "Python 3",
   "language": "python",
   "name": "python3"
  },
  "language_info": {
   "codemirror_mode": {
    "name": "ipython",
    "version": 3
   },
   "file_extension": ".py",
   "mimetype": "text/x-python",
   "name": "python",
   "nbconvert_exporter": "python",
   "pygments_lexer": "ipython3",
   "version": "3.7.4"
  }
 },
 "nbformat": 4,
 "nbformat_minor": 1
}
