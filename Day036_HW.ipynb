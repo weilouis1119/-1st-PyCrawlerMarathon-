{
 "cells": [
  {
   "cell_type": "markdown",
   "metadata": {},
   "source": [
    "# 加速：非同步爬蟲\n",
    "\n",
    "* 了解非同步爬蟲加速原理與實作"
   ]
  },
  {
   "cell_type": "markdown",
   "metadata": {},
   "source": [
    "## 作業目標\n",
    "\n",
    "* 比較一下非同步爬蟲跟多線程爬蟲的差異是什麼？各自的優缺點為何？"
   ]
  },
  {
   "cell_type": "code",
   "execution_count": 13,
   "metadata": {
    "scrolled": true
   },
   "outputs": [
    {
     "name": "stdout",
     "output_type": "stream",
     "text": [
      "多線程爬蟲：同時將爬蟲乘虛分為多個平行程序，已達分流的效果\n",
      "非同步爬蟲：在上一行程式碼尚在執行時就開始執行下一行程式碼\n"
     ]
    }
   ],
   "source": [
    "print('多線程爬蟲：同時將爬蟲乘虛分為多個平行程序，已達分流的效果')\n",
    "print('非同步爬蟲：在上一行程式碼尚在執行時就開始執行下一行程式碼')"
   ]
  },
  {
   "cell_type": "code",
   "execution_count": 2,
   "metadata": {},
   "outputs": [
    {
     "name": "stdout",
     "output_type": "stream",
     "text": [
      "http://www.cpbl.com.tw/stats/all.html?&game_type=01&online=0&year=2019&stat=pbat&sort=G&order=desc\n",
      "http://www.cpbl.com.tw/stats/all.html?&game_type=01&online=0&year=2019&stat=pbat&sort=G&order=desc\n",
      "http://www.cpbl.com.tw/stats/all.html?&game_type=01&online=0&year=2019&stat=pbat&sort=G&order=desc\n",
      "total time: 2.0328688621520996\n"
     ]
    }
   ],
   "source": [
    "import requests\n",
    "import time\n",
    "url='http://www.cpbl.com.tw/stats/all.html?&game_type=01&online=0&year=2019&stat=pbat&sort=G&order=desc'\n",
    "def normal():\n",
    "    for i in range(3):\n",
    "        r=requests.get(url)\n",
    "        print(r.url)\n",
    "t1=time.time()\n",
    "normal()\n",
    "print('total time:',time.time()-t1)\n",
    "    "
   ]
  },
  {
   "cell_type": "code",
   "execution_count": 12,
   "metadata": {},
   "outputs": [
    {
     "name": "stdout",
     "output_type": "stream",
     "text": [
      "['http://www.cpbl.com.tw/stats/all.html?&game_type=01&online=0&year=2019&stat=pbat&sort=G&order=desc', 'http://www.cpbl.com.tw/stats/all.html?&game_type=01&online=0&year=2019&stat=pbat&sort=G&order=desc', 'http://www.cpbl.com.tw/stats/all.html?&game_type=01&online=0&year=2019&stat=pbat&sort=G&order=desc']\n",
      "\n",
      " total time: 0.6360900402069092\n"
     ]
    }
   ],
   "source": [
    "import aiohttp\n",
    "import asyncio\n",
    "import requests\n",
    "import time\n",
    "import nest_asyncio\n",
    "nest_asyncio.apply()\n",
    "\n",
    "async def job(session):\n",
    "    response=await session.get(url)\n",
    "    return str(response.url)\n",
    "\n",
    "async def main(loop):\n",
    "    async with aiohttp.ClientSession() as session:\n",
    "        tasks=[loop.create_task(job(session)) for _ in range(3)]\n",
    "        finished, unfinished=await asyncio.wait(tasks)\n",
    "        all_results=[r.result() for r in finished]\n",
    "        print(all_results)\n",
    "t1=time.time()\n",
    "loop=asyncio.get_event_loop()\n",
    "loop.run_until_complete(main(loop))\n",
    "#loop.close()\n",
    "print('\\n','total time:',time.time()-t1)\n",
    "        "
   ]
  },
  {
   "cell_type": "code",
   "execution_count": 6,
   "metadata": {},
   "outputs": [
    {
     "name": "stdout",
     "output_type": "stream",
     "text": [
      "Collecting nest_asyncio\n",
      "  Downloading nest_asyncio-1.2.3-py3-none-any.whl (4.5 kB)\n",
      "Installing collected packages: nest-asyncio\n",
      "Successfully installed nest-asyncio-1.2.3\n"
     ]
    }
   ],
   "source": [
    "\n"
   ]
  },
  {
   "cell_type": "code",
   "execution_count": null,
   "metadata": {},
   "outputs": [],
   "source": []
  }
 ],
 "metadata": {
  "colab": {
   "name": "homework.ipynb",
   "provenance": []
  },
  "kernelspec": {
   "display_name": "Python 3",
   "language": "python",
   "name": "python3"
  },
  "language_info": {
   "codemirror_mode": {
    "name": "ipython",
    "version": 3
   },
   "file_extension": ".py",
   "mimetype": "text/x-python",
   "name": "python",
   "nbconvert_exporter": "python",
   "pygments_lexer": "ipython3",
   "version": "3.7.4"
  }
 },
 "nbformat": 4,
 "nbformat_minor": 1
}
